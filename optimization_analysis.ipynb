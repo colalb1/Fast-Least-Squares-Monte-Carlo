{
 "cells": [
  {
   "cell_type": "markdown",
   "metadata": {},
   "source": [
    "# Optimization Data Analysis"
   ]
  },
  {
   "cell_type": "markdown",
   "metadata": {},
   "source": [
    "## 0: Setup"
   ]
  },
  {
   "cell_type": "markdown",
   "metadata": {},
   "source": [
    "### 0.1: Importing Packages and Data"
   ]
  },
  {
   "cell_type": "code",
   "execution_count": null,
   "metadata": {},
   "outputs": [],
   "source": [
    "import numpy as np\n",
    "import pandas as pd\n",
    "import matplotlib.pyplot as plt\n",
    "from scipy.stats import norm"
   ]
  },
  {
   "cell_type": "code",
   "execution_count": null,
   "metadata": {},
   "outputs": [],
   "source": [
    "option_prices = pd.read_csv(\"option_pricing.csv\")"
   ]
  },
  {
   "cell_type": "markdown",
   "metadata": {},
   "source": [
    "### 0.2: Function Definitions"
   ]
  },
  {
   "cell_type": "markdown",
   "metadata": {},
   "source": [
    "#### 0.2.1: Empirical Option Price\n",
    "\n",
    "According to the Black-Scholes differential equation:\n",
    "\n",
    "$$\\frac{\\partial V}{\\partial t} + \\frac{\\sigma ^ 2 S ^ 2}{2} S^2 \\frac{\\partial^2 V}{\\partial S^2} + r S \\frac{\\partial V}{\\partial S} - r V = 0$$\n",
    "\n",
    "which is solved/transformed into the following (for European call and put prices, respectively):\n",
    "\n",
    "$$C(S, t) = S\\Phi(d_1) - Ke^{-rt}\\Phi(d_2)$$\n",
    "$$P(S, t) = Ke^{-rt}\\Phi(-d_2) - S\\Phi(-d_1)$$\n",
    "\n",
    "where $\\Phi$ is the standard normal cdf and $d_1 = \\frac{\\ln\\left(\\frac{S}{K}\\right) + (r + \\frac{\\sigma ^ 2}{2})T}{\\sigma\\sqrt{T}}$, $d_2 = d_1 - \\sigma\\sqrt{T}$."
   ]
  },
  {
   "cell_type": "code",
   "execution_count": null,
   "metadata": {},
   "outputs": [],
   "source": [
    "def empirical_option(row) -> float:\n",
    "    # Setting variables based on the row input.\n",
    "    # This would have been easier with just putting the functions in multiple parameter inputs, but this is non-trivial in Python\n",
    "    S_0 = 100\n",
    "    K = row[\"Strike Price\"]\n",
    "    r = row[\"Risk-Free Rate\"]\n",
    "    sigma = row[\"Volatility\"]\n",
    "    T = row[\"Expiry Time\"]\n",
    "    call_flag = row[\"Call Flag\"]\n",
    "    \n",
    "    d_1 = (np.log(S_0 / K) + (r + sigma ** 2 / 2) * T) / (sigma * np.sqrt(T))\n",
    "    d_2 = d_1 - sigma * np.sqrt(T)\n",
    "    \n",
    "    # call price\n",
    "    if call_flag == 1:\n",
    "        return S_0 * norm.cdf(d_1) - K * np.exp(-r * T) * norm.cdf(d_2)\n",
    "    # put price\n",
    "    return K * np.exp(-r * T) * norm.cdf(-d_2) - S_0 * norm.cdf(-d_1)"
   ]
  },
  {
   "cell_type": "markdown",
   "metadata": {},
   "source": [
    "### 0.2.2: Normalized $L^2$ Error\n",
    "\n",
    "The pricing errors were calculated using the normalized $L^2$ error, which is defined by the following equation:\n",
    "\n",
    "$$\\frac{\\left\\lVert y - \\hat{y}\\right\\rVert_2}{\\lVert y\\rVert_2}$$\n",
    "\n",
    "where $\\hat{y}$ is the predicted value by either the original or optimized pricing method and $y$ is the empirical price."
   ]
  },
  {
   "cell_type": "code",
   "execution_count": null,
   "metadata": {},
   "outputs": [],
   "source": [
    "# Implementation is ugly/elss generalizable with two function but is much easier in practice\n",
    "def normalized_l2_error_original(row) -> float:\n",
    "    return np.linalg.norm(row[\"Original Method Price\"] - row[\"Empirical Price\"]) / np.linalg.norm(row[\"Empirical Price\"])\n",
    "def normalized_l2_error_optimized(row) -> float:\n",
    "    return np.linalg.norm(row[\"Optimized Method Price\"] - row[\"Empirical Price\"]) / np.linalg.norm(row[\"Empirical Price\"])"
   ]
  },
  {
   "cell_type": "markdown",
   "metadata": {},
   "source": [
    "## 1: Data Manipulation (adding and modifying columns)"
   ]
  },
  {
   "cell_type": "markdown",
   "metadata": {},
   "source": [
    "### 1.1: Adding Empirical Price"
   ]
  },
  {
   "cell_type": "code",
   "execution_count": null,
   "metadata": {},
   "outputs": [],
   "source": [
    "option_prices[\"Empirical Price\"] = option_prices.apply(empirical_option, axis = 1)"
   ]
  },
  {
   "cell_type": "markdown",
   "metadata": {},
   "source": [
    "### 1.2: Adding Original and Optimized Method Price Errors"
   ]
  },
  {
   "cell_type": "code",
   "execution_count": null,
   "metadata": {},
   "outputs": [],
   "source": [
    "option_prices[\"Original Error\"], option_prices[\"Optimized Error\"] = option_prices.apply(normalized_l2_error_original, axis = 1), option_prices.apply(normalized_l2_error_optimized, axis = 1)"
   ]
  },
  {
   "cell_type": "code",
   "execution_count": null,
   "metadata": {},
   "outputs": [],
   "source": [
    "option_prices.head()"
   ]
  },
  {
   "cell_type": "markdown",
   "metadata": {},
   "source": [
    "## 2: Plots\n",
    "\n",
    "I'm aware that I should have made a plotting function; it would have made this less of an eyesore. There are enough inputs to where it is simpler and faster to copy & paste the previous code and change one parameter than write a function for it. This is not generalizable, but it does not have to be.\n",
    "\n",
    "I will omit analysis below each plot and summarize it in the final section for brevity purposes."
   ]
  },
  {
   "cell_type": "markdown",
   "metadata": {},
   "source": [
    "### 2.1: Data Organization\n",
    "\n",
    "This could be more space/memory efficient; too many copies made for the sake of being explicit."
   ]
  },
  {
   "cell_type": "code",
   "execution_count": null,
   "metadata": {},
   "outputs": [],
   "source": [
    "power_calls, power_puts = option_prices.loc[(option_prices[\"Basis\"] == 0) & (option_prices[\"Call Flag\"] == 1)], option_prices.loc[(option_prices[\"Basis\"] == 0) & (option_prices[\"Call Flag\"] == 0)]\n",
    "hermitian_calls, hermitian_puts = option_prices.loc[(option_prices[\"Basis\"] == 1) & (option_prices[\"Call Flag\"] == 1)], option_prices.loc[(option_prices[\"Basis\"] == 1) & (option_prices[\"Call Flag\"] == 0)]\n",
    "laguerre_calls, laguerre_puts = option_prices.loc[(option_prices[\"Basis\"] == 2) & (option_prices[\"Call Flag\"] == 1)], option_prices.loc[(option_prices[\"Basis\"] == 2) & (option_prices[\"Call Flag\"] == 0)]"
   ]
  },
  {
   "cell_type": "markdown",
   "metadata": {},
   "source": [
    "#### 2.2: Error vs Risk-Free Rates\n",
    "\n",
    "Setting $\\sigma = 0.3$ and $T = 1$. Feel free to change these values to draw your own conclusions."
   ]
  },
  {
   "cell_type": "markdown",
   "metadata": {},
   "source": [
    "##### 2.2.1: Calls\n",
    "\n",
    "Setting $K = 110$."
   ]
  },
  {
   "cell_type": "code",
   "execution_count": null,
   "metadata": {},
   "outputs": [],
   "source": [
    "vol_temp = 0.3\n",
    "expiry_temp = 1\n",
    "strike_temp = 110\n",
    "\n",
    "filtered_power_calls = power_calls.loc[(power_calls[\"Volatility\"] == vol_temp) & (power_calls[\"Expiry Time\"] == expiry_temp) & (power_calls[\"Strike Price\"] == strike_temp)]\n",
    "filtered_hermitian_calls = hermitian_calls.loc[(hermitian_calls[\"Volatility\"] == vol_temp) & (hermitian_calls[\"Expiry Time\"] == expiry_temp) & (hermitian_calls[\"Strike Price\"] == strike_temp)]\n",
    "filtered_laguerre_calls = laguerre_calls.loc[(laguerre_calls[\"Volatility\"] == vol_temp) & (laguerre_calls[\"Expiry Time\"] == expiry_temp) & (laguerre_calls[\"Strike Price\"] == strike_temp)]\n",
    "\n",
    "plt.plot(filtered_power_calls[\"Risk-Free Rate\"], filtered_power_calls[\"Original Error\"], color = 'blue', label = 'Original')\n",
    "plt.plot(filtered_power_calls[\"Risk-Free Rate\"], filtered_power_calls[\"Optimized Error\"], color = 'red', label = 'Power Optimized')\n",
    "plt.plot(filtered_hermitian_calls[\"Risk-Free Rate\"], filtered_hermitian_calls[\"Optimized Error\"], color = 'orange', label = 'Hermitian Optimized')\n",
    "plt.plot(filtered_laguerre_calls[\"Risk-Free Rate\"], filtered_laguerre_calls[\"Optimized Error\"], color = 'green', label = 'Laguerre Optimized')\n",
    "\n",
    "plt.title('A Plot of Risk-Free Rate vs L^2 Error for Calls')\n",
    "plt.xlabel(\"Risk-Free Rate\")\n",
    "plt.ylabel(\"Normalized L^2 Error\")\n",
    "plt.legend()\n",
    "plt.grid(True)\n",
    "plt.show()"
   ]
  },
  {
   "cell_type": "markdown",
   "metadata": {},
   "source": [
    "##### 2.2.2: Puts\n",
    "\n",
    "Setting $K = 90$."
   ]
  },
  {
   "cell_type": "code",
   "execution_count": null,
   "metadata": {},
   "outputs": [],
   "source": [
    "strike_temp = 90\n",
    "\n",
    "filtered_power_puts = power_puts.loc[(power_puts[\"Volatility\"] == vol_temp) & (power_puts[\"Expiry Time\"] == expiry_temp) & (power_puts[\"Strike Price\"] == strike_temp)]\n",
    "filtered_hermitian_puts = hermitian_puts.loc[(hermitian_puts[\"Volatility\"] == vol_temp) & (hermitian_puts[\"Expiry Time\"] == expiry_temp) & (hermitian_puts[\"Strike Price\"] == strike_temp)]\n",
    "filtered_laguerre_puts = laguerre_puts.loc[(laguerre_puts[\"Volatility\"] == vol_temp) & (laguerre_puts[\"Expiry Time\"] == expiry_temp) & (laguerre_puts[\"Strike Price\"] == strike_temp)]\n",
    "\n",
    "plt.plot(filtered_power_puts[\"Risk-Free Rate\"], filtered_power_puts[\"Original Error\"], color = 'blue', label = 'Original')\n",
    "plt.plot(filtered_power_puts[\"Risk-Free Rate\"], filtered_power_puts[\"Optimized Error\"], color = 'red', label = 'Power Optimized')\n",
    "plt.plot(filtered_hermitian_puts[\"Risk-Free Rate\"], filtered_hermitian_puts[\"Optimized Error\"], color = 'orange', label = 'Hermitian Optimized')\n",
    "plt.plot(filtered_laguerre_puts[\"Risk-Free Rate\"], filtered_laguerre_puts[\"Optimized Error\"], color = 'green', label = 'Laguerre Optimized')\n",
    "\n",
    "plt.title('A Plot of Risk-Free Rate vs L^2 Error for Puts')\n",
    "plt.xlabel(\"Risk-Free Rate\")\n",
    "plt.ylabel(\"Normalized L^2 Error\")\n",
    "plt.legend()\n",
    "plt.grid(True)\n",
    "plt.show()"
   ]
  },
  {
   "cell_type": "markdown",
   "metadata": {},
   "source": [
    "#### 2.3: Error vs Volatility\n",
    "\n",
    "Setting $r = 0.05$ and $T = 1$."
   ]
  },
  {
   "cell_type": "markdown",
   "metadata": {},
   "source": [
    "##### 2.3.1: Calls\n",
    "\n",
    "Setting $K = 110$."
   ]
  },
  {
   "cell_type": "code",
   "execution_count": null,
   "metadata": {},
   "outputs": [],
   "source": [
    "risk_temp = 0.05\n",
    "strike_temp = 110\n",
    "expiry_temp = 1\n",
    "\n",
    "filtered_power_calls = power_calls.loc[(power_calls[\"Risk-Free Rate\"] == risk_temp) & (power_calls[\"Expiry Time\"] == expiry_temp) & (power_calls[\"Strike Price\"] == strike_temp)]\n",
    "filtered_hermitian_calls = hermitian_calls.loc[(hermitian_calls[\"Risk-Free Rate\"] == risk_temp) & (hermitian_calls[\"Expiry Time\"] == expiry_temp) & (hermitian_calls[\"Strike Price\"] == strike_temp)]\n",
    "filtered_laguerre_calls = laguerre_calls.loc[(laguerre_calls[\"Risk-Free Rate\"] == risk_temp) & (laguerre_calls[\"Expiry Time\"] == expiry_temp) & (laguerre_calls[\"Strike Price\"] == strike_temp)]\n",
    "\n",
    "plt.plot(filtered_power_calls[\"Volatility\"], filtered_power_calls[\"Original Error\"], color = 'blue', label = 'Original')\n",
    "plt.plot(filtered_power_calls[\"Volatility\"], filtered_power_calls[\"Optimized Error\"], color = 'red', label = 'Power Optimized')\n",
    "plt.plot(filtered_hermitian_calls[\"Volatility\"], filtered_hermitian_calls[\"Optimized Error\"], color = 'orange', label = 'Hermitian Optimized')\n",
    "plt.plot(filtered_laguerre_calls[\"Volatility\"], filtered_laguerre_calls[\"Optimized Error\"], color = 'green', label = 'Laguerre Optimized')\n",
    "\n",
    "plt.title('A Plot of Volatility vs L^2 Error for Calls')\n",
    "plt.xlabel(\"Volatility\")\n",
    "plt.ylabel(\"Normalized L^2 Error\")\n",
    "plt.legend()\n",
    "plt.grid(True)\n",
    "plt.show()"
   ]
  },
  {
   "cell_type": "markdown",
   "metadata": {},
   "source": [
    "##### 2.3.2: Puts\n",
    "\n",
    "Setting $K = 90$."
   ]
  },
  {
   "cell_type": "code",
   "execution_count": null,
   "metadata": {},
   "outputs": [],
   "source": [
    "strike_temp = 90\n",
    "\n",
    "filtered_power_puts = power_puts.loc[(power_puts[\"Risk-Free Rate\"] == risk_temp) & (power_puts[\"Expiry Time\"] == expiry_temp) & (power_puts[\"Strike Price\"] == strike_temp)]\n",
    "filtered_hermitian_puts = hermitian_puts.loc[(hermitian_puts[\"Risk-Free Rate\"] == risk_temp) & (hermitian_puts[\"Expiry Time\"] == expiry_temp) & (hermitian_puts[\"Strike Price\"] == strike_temp)]\n",
    "filtered_laguerre_puts = laguerre_puts.loc[(laguerre_puts[\"Risk-Free Rate\"] == risk_temp) & (laguerre_puts[\"Expiry Time\"] == expiry_temp) & (laguerre_puts[\"Strike Price\"] == strike_temp)]\n",
    "\n",
    "plt.plot(filtered_power_puts[\"Volatility\"], filtered_power_puts[\"Original Error\"], color = 'blue', label = 'Original')\n",
    "plt.plot(filtered_power_puts[\"Volatility\"], filtered_power_puts[\"Optimized Error\"], color = 'red', label = 'Power Optimized')\n",
    "plt.plot(filtered_hermitian_puts[\"Volatility\"], filtered_hermitian_puts[\"Optimized Error\"], color = 'orange', label = 'Hermitian Optimized')\n",
    "plt.plot(filtered_laguerre_puts[\"Volatility\"], filtered_laguerre_puts[\"Optimized Error\"], color = 'green', label = 'Laguerre Optimized')\n",
    "\n",
    "plt.title('A Plot of Volatility vs L^2 Error for Puts')\n",
    "plt.xlabel(\"Volatility\")\n",
    "plt.ylabel(\"Normalized L^2 Error\")\n",
    "plt.legend()\n",
    "plt.grid(True)\n",
    "plt.show()"
   ]
  },
  {
   "cell_type": "markdown",
   "metadata": {},
   "source": [
    "#### 2.4: Error vs Strike Price\n",
    "\n",
    "Setting $r = 0.05$, $T = 1$ and $\\sigma = 0.3$."
   ]
  },
  {
   "cell_type": "markdown",
   "metadata": {},
   "source": [
    "##### 2.4.1: Calls"
   ]
  },
  {
   "cell_type": "code",
   "execution_count": null,
   "metadata": {},
   "outputs": [],
   "source": [
    "risk_temp = 0.05\n",
    "expiry_temp = 1\n",
    "vol_temp = 0.3\n",
    "\n",
    "filtered_power_calls = power_calls.loc[(power_calls[\"Risk-Free Rate\"] == risk_temp) & (power_calls[\"Expiry Time\"] == expiry_temp) & (power_calls[\"Volatility\"] == vol_temp)]\n",
    "filtered_hermitian_calls = hermitian_calls.loc[(hermitian_calls[\"Risk-Free Rate\"] == risk_temp) & (hermitian_calls[\"Expiry Time\"] == expiry_temp) & (hermitian_calls[\"Volatility\"] == vol_temp)]\n",
    "filtered_laguerre_calls = laguerre_calls.loc[(laguerre_calls[\"Risk-Free Rate\"] == risk_temp) & (laguerre_calls[\"Expiry Time\"] == expiry_temp) & (laguerre_calls[\"Volatility\"] == vol_temp)]\n",
    "\n",
    "plt.plot(filtered_power_calls[\"Strike Price\"], filtered_power_calls[\"Original Error\"], color = 'blue', label = 'Original')\n",
    "plt.plot(filtered_power_calls[\"Strike Price\"], filtered_power_calls[\"Optimized Error\"], color = 'red', label = 'Power Optimized')\n",
    "plt.plot(filtered_hermitian_calls[\"Strike Price\"], filtered_hermitian_calls[\"Optimized Error\"], color = 'orange', label = 'Hermitian Optimized')\n",
    "plt.plot(filtered_laguerre_calls[\"Strike Price\"], filtered_laguerre_calls[\"Optimized Error\"], color = 'green', label = 'Laguerre Optimized')\n",
    "\n",
    "plt.title('A Plot of Strike Price vs L^2 Error for Calls')\n",
    "plt.xlabel(\"Strike Price\")\n",
    "plt.ylabel(\"Normalized L^2 Error\")\n",
    "plt.legend()\n",
    "plt.grid(True)\n",
    "plt.show()"
   ]
  },
  {
   "cell_type": "markdown",
   "metadata": {},
   "source": [
    "##### 2.4.2: Puts\n",
    "\n",
    "This must be a systematic issue since normalized error is very high for both methds/all bases."
   ]
  },
  {
   "cell_type": "code",
   "execution_count": null,
   "metadata": {},
   "outputs": [],
   "source": [
    "filtered_power_puts = power_puts.loc[(power_puts[\"Risk-Free Rate\"] == risk_temp) & (power_puts[\"Expiry Time\"] == expiry_temp) & (power_puts[\"Volatility\"] == vol_temp)]\n",
    "filtered_hermitian_puts = hermitian_puts.loc[(hermitian_puts[\"Risk-Free Rate\"] == risk_temp) & (hermitian_puts[\"Expiry Time\"] == expiry_temp) & (hermitian_puts[\"Volatility\"] == vol_temp)]\n",
    "filtered_laguerre_puts = laguerre_puts.loc[(laguerre_puts[\"Risk-Free Rate\"] == risk_temp) & (laguerre_puts[\"Expiry Time\"] == expiry_temp) & (laguerre_puts[\"Volatility\"] == vol_temp)]\n",
    "\n",
    "plt.plot(filtered_power_puts[\"Strike Price\"], filtered_power_puts[\"Original Error\"], color = 'blue', label = 'Original')\n",
    "plt.plot(filtered_power_puts[\"Strike Price\"], filtered_power_puts[\"Optimized Error\"], color = 'red', label = 'Power Optimized')\n",
    "plt.plot(filtered_hermitian_puts[\"Strike Price\"], filtered_hermitian_puts[\"Optimized Error\"], color = 'orange', label = 'Hermitian Optimized')\n",
    "plt.plot(filtered_laguerre_puts[\"Strike Price\"], filtered_laguerre_puts[\"Optimized Error\"], color = 'green', label = 'Laguerre Optimized')\n",
    "\n",
    "plt.title('A Plot of Strike Price vs L^2 Error for Puts')\n",
    "plt.xlabel(\"Strike Price\")\n",
    "plt.ylabel(\"Normalized L^2 Error\")\n",
    "plt.legend()\n",
    "plt.grid(True)\n",
    "plt.show()"
   ]
  },
  {
   "cell_type": "markdown",
   "metadata": {},
   "source": [
    "#### 2.5: Error vs Expiry Time\n",
    "\n",
    "Setting $r = 0.05$ and $\\sigma = 0.3$."
   ]
  },
  {
   "cell_type": "markdown",
   "metadata": {},
   "source": [
    "##### 2.5.1: Calls\n",
    "\n",
    "$K = 110$."
   ]
  },
  {
   "cell_type": "code",
   "execution_count": null,
   "metadata": {},
   "outputs": [],
   "source": [
    "risk_temp = 0.05\n",
    "strike_temp = 110\n",
    "vol_temp = 0.3\n",
    "\n",
    "filtered_power_calls = power_calls.loc[(power_calls[\"Risk-Free Rate\"] == risk_temp) & (power_calls[\"Strike Price\"] == strike_temp) & (power_calls[\"Volatility\"] == vol_temp)]\n",
    "filtered_hermitian_calls = hermitian_calls.loc[(hermitian_calls[\"Risk-Free Rate\"] == risk_temp) & (hermitian_calls[\"Strike Price\"] == strike_temp) & (hermitian_calls[\"Volatility\"] == vol_temp)]\n",
    "filtered_laguerre_calls = laguerre_calls.loc[(laguerre_calls[\"Risk-Free Rate\"] == risk_temp) & (laguerre_calls[\"Strike Price\"] == strike_temp) & (laguerre_calls[\"Volatility\"] == vol_temp)]\n",
    "\n",
    "plt.plot(filtered_power_calls[\"Expiry Time\"], filtered_power_calls[\"Original Error\"], color = 'blue', label = 'Original')\n",
    "plt.plot(filtered_power_calls[\"Expiry Time\"], filtered_power_calls[\"Optimized Error\"], color = 'red', label = 'Power Optimized')\n",
    "plt.plot(filtered_hermitian_calls[\"Expiry Time\"], filtered_hermitian_calls[\"Optimized Error\"], color = 'orange', label = 'Hermitian Optimized')\n",
    "plt.plot(filtered_laguerre_calls[\"Expiry Time\"], filtered_laguerre_calls[\"Optimized Error\"], color = 'green', label = 'Laguerre Optimized')\n",
    "\n",
    "plt.title('A Plot of Expiry Time vs L^2 Error for Calls')\n",
    "plt.xlabel(\"Expiry Time\")\n",
    "plt.ylabel(\"Normalized L^2 Error\")\n",
    "plt.legend()\n",
    "plt.grid(True)\n",
    "plt.show()"
   ]
  },
  {
   "cell_type": "markdown",
   "metadata": {},
   "source": [
    "##### 2.5.2: Puts\n",
    "\n",
    "$K = 90$."
   ]
  },
  {
   "cell_type": "code",
   "execution_count": null,
   "metadata": {},
   "outputs": [],
   "source": [
    "strike_temp = 90\n",
    "\n",
    "filtered_power_puts = power_puts.loc[(power_puts[\"Risk-Free Rate\"] == risk_temp) & (power_puts[\"Strike Price\"] == strike_temp) & (power_puts[\"Volatility\"] == vol_temp)]\n",
    "filtered_hermitian_puts = hermitian_puts.loc[(hermitian_puts[\"Risk-Free Rate\"] == risk_temp) & (hermitian_puts[\"Strike Price\"] == strike_temp) & (hermitian_puts[\"Volatility\"] == vol_temp)]\n",
    "filtered_laguerre_puts = laguerre_puts.loc[(laguerre_puts[\"Risk-Free Rate\"] == risk_temp) & (laguerre_puts[\"Strike Price\"] == strike_temp) & (laguerre_puts[\"Volatility\"] == vol_temp)]\n",
    "\n",
    "plt.plot(filtered_power_puts[\"Expiry Time\"], filtered_power_puts[\"Original Error\"], color = 'blue', label = 'Original')\n",
    "plt.plot(filtered_power_puts[\"Expiry Time\"], filtered_power_puts[\"Optimized Error\"], color = 'red', label = 'Power Optimized')\n",
    "plt.plot(filtered_hermitian_puts[\"Expiry Time\"], filtered_hermitian_puts[\"Optimized Error\"], color = 'orange', label = 'Hermitian Optimized')\n",
    "plt.plot(filtered_laguerre_puts[\"Expiry Time\"], filtered_laguerre_puts[\"Optimized Error\"], color = 'green', label = 'Laguerre Optimized')\n",
    "\n",
    "plt.title('A Plot of Expiry Time vs L^2 Error for Puts')\n",
    "plt.xlabel(\"Expiry Time\")\n",
    "plt.ylabel(\"Normalized L^2 Error\")\n",
    "plt.legend()\n",
    "plt.grid(True)\n",
    "plt.show()"
   ]
  },
  {
   "cell_type": "markdown",
   "metadata": {},
   "source": [
    "### 2.6: Computation Time vs Risk-Free Rate\n",
    "\n",
    "Setting $\\sigma = 0.3$ and $T = 1$."
   ]
  },
  {
   "cell_type": "markdown",
   "metadata": {},
   "source": [
    "#### 2.6.1: Calls\n",
    "\n",
    "$K = 110$."
   ]
  },
  {
   "cell_type": "code",
   "execution_count": null,
   "metadata": {},
   "outputs": [],
   "source": [
    "strike_temp = 110\n",
    "vol_temp = 0.3\n",
    "expiry_temp = 1\n",
    "\n",
    "filtered_power_calls = power_calls.loc[(power_calls[\"Strike Price\"] == strike_temp) & (power_calls[\"Volatility\"] == vol_temp) & (power_calls[\"Expiry Time\"] == expiry_temp)]\n",
    "filtered_hermitian_calls = hermitian_calls.loc[(hermitian_calls[\"Strike Price\"] == strike_temp) & (hermitian_calls[\"Volatility\"] == vol_temp) & (hermitian_calls[\"Expiry Time\"] == expiry_temp)]\n",
    "filtered_laguerre_calls = laguerre_calls.loc[(laguerre_calls[\"Strike Price\"] == strike_temp) & (laguerre_calls[\"Volatility\"] == vol_temp) & (laguerre_calls[\"Expiry Time\"] == expiry_temp)]\n",
    "\n",
    "# Divide optimized computation time by 3 since parallelization\n",
    "plt.plot(filtered_power_calls[\"Risk-Free Rate\"], filtered_power_calls[\"Original Computation Time\"], color = 'blue', label = 'Original')\n",
    "plt.plot(filtered_power_calls[\"Risk-Free Rate\"], filtered_power_calls[\"Optimized Computation Time\"] / 3, color = 'red', label = 'Power Optimized')\n",
    "plt.plot(filtered_hermitian_calls[\"Risk-Free Rate\"], filtered_hermitian_calls[\"Optimized Computation Time\"] / 3, color = 'orange', label = 'Hermitian Optimized')\n",
    "plt.plot(filtered_laguerre_calls[\"Risk-Free Rate\"], filtered_laguerre_calls[\"Optimized Computation Time\"] / 3, color = 'green', label = 'Laguerre Optimized')\n",
    "\n",
    "plt.title('A Plot of Risk-Free Rate vs Computation Time for Calls')\n",
    "plt.xlabel(\"Risk-Free Rate\")\n",
    "plt.ylabel(\"Computation Time (seconds)\")\n",
    "plt.legend()\n",
    "plt.grid(True)\n",
    "plt.show()"
   ]
  },
  {
   "cell_type": "markdown",
   "metadata": {},
   "source": [
    "#### 2.6.2: Puts\n",
    "\n",
    "$K = 90$."
   ]
  },
  {
   "cell_type": "code",
   "execution_count": null,
   "metadata": {},
   "outputs": [],
   "source": [
    "strike_temp = 90\n",
    "\n",
    "filtered_power_puts = power_puts.loc[(power_puts[\"Strike Price\"] == strike_temp) & (power_puts[\"Volatility\"] == vol_temp) & (power_puts[\"Expiry Time\"] == expiry_temp)]\n",
    "filtered_hermitian_puts = hermitian_puts.loc[(hermitian_puts[\"Strike Price\"] == strike_temp) & (hermitian_puts[\"Volatility\"] == vol_temp) & (hermitian_puts[\"Expiry Time\"] == expiry_temp)]\n",
    "filtered_laguerre_puts = laguerre_puts.loc[(laguerre_puts[\"Strike Price\"] == strike_temp) & (laguerre_puts[\"Volatility\"] == vol_temp) & (laguerre_puts[\"Expiry Time\"] == expiry_temp)]\n",
    "\n",
    "# Divide optimized computation time by 3 since parallelization\n",
    "plt.plot(filtered_power_puts[\"Risk-Free Rate\"], filtered_power_puts[\"Original Computation Time\"], color = 'blue', label = 'Original')\n",
    "plt.plot(filtered_power_puts[\"Risk-Free Rate\"], filtered_power_puts[\"Optimized Computation Time\"] / 3, color = 'red', label = 'Power Optimized')\n",
    "plt.plot(filtered_hermitian_puts[\"Risk-Free Rate\"], filtered_hermitian_puts[\"Optimized Computation Time\"] / 3, color = 'orange', label = 'Hermitian Optimized')\n",
    "plt.plot(filtered_laguerre_puts[\"Risk-Free Rate\"], filtered_laguerre_puts[\"Optimized Computation Time\"] / 3, color = 'green', label = 'Laguerre Optimized')\n",
    "\n",
    "plt.title('A Plot of Risk-Free Rate vs Computation Time for Puts')\n",
    "plt.xlabel(\"Risk-Free Rate\")\n",
    "plt.ylabel(\"Computation Time (seconds)\")\n",
    "plt.legend()\n",
    "plt.grid(True)\n",
    "plt.show()"
   ]
  },
  {
   "cell_type": "markdown",
   "metadata": {},
   "source": [
    "### 2.7: Computation Time vs Volatility\n",
    "\n",
    "Setting $r = 0.05$ and $T = 1$."
   ]
  },
  {
   "cell_type": "markdown",
   "metadata": {},
   "source": [
    "#### 2.7.1: Calls\n",
    "\n",
    "$K = 110$."
   ]
  },
  {
   "cell_type": "code",
   "execution_count": null,
   "metadata": {},
   "outputs": [],
   "source": [
    "strike_temp = 110\n",
    "\n",
    "filtered_power_calls = power_calls.loc[(power_calls[\"Strike Price\"] == strike_temp) & (power_calls[\"Risk-Free Rate\"] == risk_temp) & (power_calls[\"Expiry Time\"] == expiry_temp)]\n",
    "filtered_hermitian_calls = hermitian_calls.loc[(hermitian_calls[\"Strike Price\"] == strike_temp) & (hermitian_calls[\"Risk-Free Rate\"] == risk_temp) & (hermitian_calls[\"Expiry Time\"] == expiry_temp)]\n",
    "filtered_laguerre_calls = laguerre_calls.loc[(laguerre_calls[\"Strike Price\"] == strike_temp) & (laguerre_calls[\"Risk-Free Rate\"] == risk_temp) & (laguerre_calls[\"Expiry Time\"] == expiry_temp)]\n",
    "\n",
    "# Divide optimized computation time by 3 since parallelization\n",
    "plt.plot(filtered_power_calls[\"Volatility\"], filtered_power_calls[\"Original Computation Time\"], color = 'blue', label = 'Original')\n",
    "plt.plot(filtered_power_calls[\"Volatility\"], filtered_power_calls[\"Optimized Computation Time\"] / 3, color = 'red', label = 'Power Optimized')\n",
    "plt.plot(filtered_hermitian_calls[\"Volatility\"], filtered_hermitian_calls[\"Optimized Computation Time\"] / 3, color = 'orange', label = 'Hermitian Optimized')\n",
    "plt.plot(filtered_laguerre_calls[\"Volatility\"], filtered_laguerre_calls[\"Optimized Computation Time\"] / 3, color = 'green', label = 'Laguerre Optimized')\n",
    "\n",
    "plt.title('A Plot of Volatility vs Computation Time for Calls')\n",
    "plt.xlabel(\"Volatility\")\n",
    "plt.ylabel(\"Computation Time (seconds)\")\n",
    "plt.legend()\n",
    "plt.grid(True)\n",
    "plt.show()"
   ]
  },
  {
   "cell_type": "markdown",
   "metadata": {},
   "source": [
    "#### 2.7.2: Puts\n",
    "\n",
    "$K = 90$."
   ]
  },
  {
   "cell_type": "code",
   "execution_count": null,
   "metadata": {},
   "outputs": [],
   "source": [
    "strike_temp = 90\n",
    "\n",
    "filtered_power_puts = power_puts.loc[(power_puts[\"Strike Price\"] == strike_temp) & (power_puts[\"Risk-Free Rate\"] == risk_temp) & (power_puts[\"Expiry Time\"] == expiry_temp)]\n",
    "filtered_hermitian_puts = hermitian_puts.loc[(hermitian_puts[\"Strike Price\"] == strike_temp) & (hermitian_puts[\"Risk-Free Rate\"] == risk_temp) & (hermitian_puts[\"Expiry Time\"] == expiry_temp)]\n",
    "filtered_laguerre_puts = laguerre_puts.loc[(laguerre_puts[\"Strike Price\"] == strike_temp) & (laguerre_puts[\"Risk-Free Rate\"] == risk_temp) & (laguerre_puts[\"Expiry Time\"] == expiry_temp)]\n",
    "\n",
    "# Divide optimized computation time by 3 since parallelization\n",
    "plt.plot(filtered_power_puts[\"Volatility\"], filtered_power_puts[\"Original Computation Time\"], color = 'blue', label = 'Original')\n",
    "plt.plot(filtered_power_puts[\"Volatility\"], filtered_power_puts[\"Optimized Computation Time\"] / 3, color = 'red', label = 'Power Optimized')\n",
    "plt.plot(filtered_hermitian_puts[\"Volatility\"], filtered_hermitian_puts[\"Optimized Computation Time\"] / 3, color = 'orange', label = 'Hermitian Optimized')\n",
    "plt.plot(filtered_laguerre_puts[\"Volatility\"], filtered_laguerre_puts[\"Optimized Computation Time\"] / 3, color = 'green', label = 'Laguerre Optimized')\n",
    "\n",
    "plt.title('A Plot of Volatility vs Computation Time for Calls')\n",
    "plt.xlabel(\"Volatility\")\n",
    "plt.ylabel(\"Computation Time (seconds)\")\n",
    "plt.legend()\n",
    "plt.grid(True)\n",
    "plt.show()"
   ]
  },
  {
   "cell_type": "markdown",
   "metadata": {},
   "source": [
    "### 2.8: Computation Time vs Strike Price\n",
    "\n",
    "Setting $r = 0.05, \\sigma = 0.3,$ and $T = 1$."
   ]
  },
  {
   "cell_type": "markdown",
   "metadata": {},
   "source": [
    "#### 2.8.1: Calls"
   ]
  },
  {
   "cell_type": "code",
   "execution_count": null,
   "metadata": {},
   "outputs": [],
   "source": [
    "filtered_power_calls = power_calls.loc[(power_calls[\"Volatility\"] == vol_temp) & (power_calls[\"Risk-Free Rate\"] == risk_temp) & (power_calls[\"Expiry Time\"] == expiry_temp)]\n",
    "filtered_hermitian_calls = hermitian_calls.loc[(hermitian_calls[\"Volatility\"] == vol_temp) & (hermitian_calls[\"Risk-Free Rate\"] == risk_temp) & (hermitian_calls[\"Expiry Time\"] == expiry_temp)]\n",
    "filtered_laguerre_calls = laguerre_calls.loc[(laguerre_calls[\"Volatility\"] == vol_temp) & (laguerre_calls[\"Risk-Free Rate\"] == risk_temp) & (laguerre_calls[\"Expiry Time\"] == expiry_temp)]\n",
    "\n",
    "# Divide optimized computation time by 3 since parallelization\n",
    "plt.plot(filtered_power_calls[\"Strike Price\"], filtered_power_calls[\"Original Computation Time\"], color = 'blue', label = 'Original')\n",
    "plt.plot(filtered_power_calls[\"Strike Price\"], filtered_power_calls[\"Optimized Computation Time\"] / 3, color = 'red', label = 'Power Optimized')\n",
    "plt.plot(filtered_hermitian_calls[\"Strike Price\"], filtered_hermitian_calls[\"Optimized Computation Time\"] / 3, color = 'orange', label = 'Hermitian Optimized')\n",
    "plt.plot(filtered_laguerre_calls[\"Strike Price\"], filtered_laguerre_calls[\"Optimized Computation Time\"] / 3, color = 'green', label = 'Laguerre Optimized')\n",
    "\n",
    "plt.title('A Plot of Strike Price vs Computation Time for Calls')\n",
    "plt.xlabel(\"Strike Price\")\n",
    "plt.ylabel(\"Computation Time (seconds)\")\n",
    "plt.legend()\n",
    "plt.grid(True)\n",
    "plt.show()"
   ]
  },
  {
   "cell_type": "markdown",
   "metadata": {},
   "source": [
    "#### 2.8.2: Puts"
   ]
  },
  {
   "cell_type": "code",
   "execution_count": null,
   "metadata": {},
   "outputs": [],
   "source": [
    "filtered_power_puts = power_puts.loc[(power_puts[\"Volatility\"] == vol_temp) & (power_puts[\"Risk-Free Rate\"] == risk_temp) & (power_puts[\"Expiry Time\"] == expiry_temp)]\n",
    "filtered_hermitian_puts = hermitian_puts.loc[(hermitian_puts[\"Volatility\"] == vol_temp) & (hermitian_puts[\"Risk-Free Rate\"] == risk_temp) & (hermitian_puts[\"Expiry Time\"] == expiry_temp)]\n",
    "filtered_laguerre_puts = laguerre_puts.loc[(laguerre_puts[\"Volatility\"] == vol_temp) & (laguerre_puts[\"Risk-Free Rate\"] == risk_temp) & (laguerre_puts[\"Expiry Time\"] == expiry_temp)]\n",
    "\n",
    "# Divide optimized computation time by 3 since parallelization\n",
    "plt.plot(filtered_power_puts[\"Strike Price\"], filtered_power_puts[\"Original Computation Time\"], color = 'blue', label = 'Original')\n",
    "plt.plot(filtered_power_puts[\"Strike Price\"], filtered_power_puts[\"Optimized Computation Time\"] / 3, color = 'red', label = 'Power Optimized')\n",
    "plt.plot(filtered_hermitian_puts[\"Strike Price\"], filtered_hermitian_puts[\"Optimized Computation Time\"] / 3, color = 'orange', label = 'Hermitian Optimized')\n",
    "plt.plot(filtered_laguerre_puts[\"Strike Price\"], filtered_laguerre_puts[\"Optimized Computation Time\"] / 3, color = 'green', label = 'Laguerre Optimized')\n",
    "\n",
    "plt.title('A Plot of Strike Price vs Computation Time for Puts')\n",
    "plt.xlabel(\"Strike Price\")\n",
    "plt.ylabel(\"Computation Time (seconds)\")\n",
    "plt.legend()\n",
    "plt.grid(True)\n",
    "plt.show()"
   ]
  },
  {
   "cell_type": "markdown",
   "metadata": {},
   "source": [
    "### 2.8: Computation Time vs Expiry Time   \n",
    "\n",
    "Setting $r = 0.05$ and $\\sigma = 0.3$."
   ]
  },
  {
   "cell_type": "markdown",
   "metadata": {},
   "source": [
    "#### 2.8.1: Calls\n",
    "\n",
    "$K = 110$."
   ]
  },
  {
   "cell_type": "code",
   "execution_count": null,
   "metadata": {},
   "outputs": [],
   "source": [
    "strike_temp = 110\n",
    "\n",
    "filtered_power_calls = power_calls.loc[(power_calls[\"Volatility\"] == vol_temp) & (power_calls[\"Risk-Free Rate\"] == risk_temp) & (power_calls[\"Strike Price\"] == strike_temp)]\n",
    "filtered_hermitian_calls = hermitian_calls.loc[(hermitian_calls[\"Volatility\"] == vol_temp) & (hermitian_calls[\"Risk-Free Rate\"] == risk_temp) & (hermitian_calls[\"Strike Price\"] == strike_temp)]\n",
    "filtered_laguerre_calls = laguerre_calls.loc[(laguerre_calls[\"Volatility\"] == vol_temp) & (laguerre_calls[\"Risk-Free Rate\"] == risk_temp) & (laguerre_calls[\"Strike Price\"] == strike_temp)]\n",
    "\n",
    "# Divide optimized computation time by 3 since parallelization\n",
    "plt.plot(filtered_power_calls[\"Expiry Time\"], filtered_power_calls[\"Original Computation Time\"], color = 'blue', label = 'Original')\n",
    "plt.plot(filtered_power_calls[\"Expiry Time\"], filtered_power_calls[\"Optimized Computation Time\"] / 3, color = 'red', label = 'Power Optimized')\n",
    "plt.plot(filtered_hermitian_calls[\"Expiry Time\"], filtered_hermitian_calls[\"Optimized Computation Time\"] / 3, color = 'orange', label = 'Hermitian Optimized')\n",
    "plt.plot(filtered_laguerre_calls[\"Expiry Time\"], filtered_laguerre_calls[\"Optimized Computation Time\"] / 3, color = 'green', label = 'Laguerre Optimized')\n",
    "\n",
    "plt.title('A Plot of Expiry Time vs Computation Time for Calls')\n",
    "plt.xlabel(\"Expiry Time\")\n",
    "plt.ylabel(\"Computation Time (seconds)\")\n",
    "plt.legend()\n",
    "plt.grid(True)\n",
    "plt.show()"
   ]
  },
  {
   "cell_type": "markdown",
   "metadata": {},
   "source": [
    "#### 2.8.2: Puts\n",
    "\n",
    "$K = 90$."
   ]
  },
  {
   "cell_type": "code",
   "execution_count": null,
   "metadata": {},
   "outputs": [],
   "source": [
    "strike_temp = 90\n",
    "\n",
    "filtered_power_puts = power_puts.loc[(power_puts[\"Volatility\"] == vol_temp) & (power_puts[\"Risk-Free Rate\"] == risk_temp) & (power_puts[\"Strike Price\"] == strike_temp)]\n",
    "filtered_hermitian_puts = hermitian_puts.loc[(hermitian_puts[\"Volatility\"] == vol_temp) & (hermitian_puts[\"Risk-Free Rate\"] == risk_temp) & (hermitian_puts[\"Strike Price\"] == strike_temp)]\n",
    "filtered_laguerre_puts = laguerre_puts.loc[(laguerre_puts[\"Volatility\"] == vol_temp) & (laguerre_puts[\"Risk-Free Rate\"] == risk_temp) & (laguerre_puts[\"Strike Price\"] == strike_temp)]\n",
    "\n",
    "# Divide optimized computation time by 3 since parallelization\n",
    "plt.plot(filtered_power_puts[\"Expiry Time\"], filtered_power_puts[\"Original Computation Time\"], color = 'blue', label = 'Original')\n",
    "plt.plot(filtered_power_puts[\"Expiry Time\"], filtered_power_puts[\"Optimized Computation Time\"] / 3, color = 'red', label = 'Power Optimized')\n",
    "plt.plot(filtered_hermitian_puts[\"Expiry Time\"], filtered_hermitian_puts[\"Optimized Computation Time\"] / 3, color = 'orange', label = 'Hermitian Optimized')\n",
    "plt.plot(filtered_laguerre_puts[\"Expiry Time\"], filtered_laguerre_puts[\"Optimized Computation Time\"] / 3, color = 'green', label = 'Laguerre Optimized')\n",
    "\n",
    "plt.title('A Plot of Expiry Time vs Computation Time for Calls')\n",
    "plt.xlabel(\"Expiry Time\")\n",
    "plt.ylabel(\"Computation Time (seconds)\")\n",
    "plt.legend()\n",
    "plt.grid(True)\n",
    "plt.show()"
   ]
  }
 ],
 "metadata": {
  "kernelspec": {
   "display_name": "Python 3",
   "language": "python",
   "name": "python3"
  },
  "language_info": {
   "codemirror_mode": {
    "name": "ipython",
    "version": 3
   },
   "file_extension": ".py",
   "mimetype": "text/x-python",
   "name": "python",
   "nbconvert_exporter": "python",
   "pygments_lexer": "ipython3",
   "version": "3.12.2"
  }
 },
 "nbformat": 4,
 "nbformat_minor": 2
}
