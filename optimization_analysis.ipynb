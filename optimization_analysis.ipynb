{
 "cells": [
  {
   "cell_type": "markdown",
   "metadata": {},
   "source": [
    "# Optimization Data Analysis\n",
    "\n",
    "### Tasks:\n",
    "1. ~~Generate empirical price and add as column~~\n",
    "2. ~~Calculate relative normalized 2-norm for each data and add as column~~\n",
    "3. Plots\n",
    "    - expiry\n",
    "    - risk-free rate\n",
    "    - volatility\n",
    "    - strike price\n",
    "    - bases\n",
    "    - call v put"
   ]
  },
  {
   "cell_type": "markdown",
   "metadata": {},
   "source": [
    "## 0: Setup"
   ]
  },
  {
   "cell_type": "markdown",
   "metadata": {},
   "source": [
    "### 0.1: Importing Packages and Data"
   ]
  },
  {
   "cell_type": "code",
   "execution_count": 1,
   "metadata": {},
   "outputs": [],
   "source": [
    "import numpy as np\n",
    "import pandas as pd\n",
    "from scipy.stats import norm"
   ]
  },
  {
   "cell_type": "code",
   "execution_count": 2,
   "metadata": {},
   "outputs": [],
   "source": [
    "option_prices = pd.read_csv(\"option_pricing.csv\")"
   ]
  },
  {
   "cell_type": "markdown",
   "metadata": {},
   "source": [
    "### 0.2: Function Definitions"
   ]
  },
  {
   "cell_type": "markdown",
   "metadata": {},
   "source": [
    "#### 0.2.1: Empirical Option Price\n",
    "\n",
    "According to the Black-Scholes differential equation:\n",
    "\n",
    "$$\\frac{\\partial V}{\\partial t} + \\frac{\\sigma ^ 2 S ^ 2}{2} S^2 \\frac{\\partial^2 V}{\\partial S^2} + r S \\frac{\\partial V}{\\partial S} - r V = 0$$\n",
    "\n",
    "which is solved/transformed into the following (for European call and put prices, respectively):\n",
    "\n",
    "$$C(S, t) = S\\Phi(d_1) - Ke^{-rt}\\Phi(d_2)$$\n",
    "$$P(S, t) = Ke^{-rt}\\Phi(-d_2) - S\\Phi(-d_1)$$\n",
    "\n",
    "where $\\Phi$ is the standard normal cdf and $d_1 = \\frac{\\ln\\left(\\frac{S}{K}\\right) + (r + \\frac{\\sigma ^ 2}{2})T}{\\sigma\\sqrt{T}}$, $d_2 = d_1 - \\sigma\\sqrt{T}$."
   ]
  },
  {
   "cell_type": "code",
   "execution_count": 3,
   "metadata": {},
   "outputs": [],
   "source": [
    "def empirical_option(row) -> float:\n",
    "    # Setting variables based on the row input.\n",
    "    # This would have been easier with just putting the functions in multiple parameter inputs, but this is non-trivial in Python\n",
    "    S_0 = 100\n",
    "    K = row[\"Strike Price\"]\n",
    "    r = row[\"Risk-Free Rate\"]\n",
    "    sigma = row[\"Volatility\"]\n",
    "    T = row[\"Expiry Time\"]\n",
    "    call_flag = row[\"Call Flag\"]\n",
    "    \n",
    "    d_1 = (np.log(S_0 / K) + (r + sigma ** 2 / 2) * T) / (sigma * np.sqrt(T))\n",
    "    d_2 = d_1 - sigma * np.sqrt(T)\n",
    "    \n",
    "    # call price\n",
    "    if call_flag == 1:\n",
    "        return S_0 * norm.cdf(d_1) - K * np.exp(-r * T) * norm.cdf(d_2)\n",
    "    # put price\n",
    "    return K * np.exp(-r * T) * norm.cdf(-d_2) - S_0 * norm.cdf(-d_1)"
   ]
  },
  {
   "cell_type": "markdown",
   "metadata": {},
   "source": [
    "### 0.2.2: Normalized $L^2$ Error\n",
    "\n",
    "The pricing errors were calculated using the normalized $L^2$ error, which is defined by the following equation:\n",
    "\n",
    "$$\\frac{\\left\\lVert y - \\hat{y}\\right\\rVert_2}{\\lVert y\\rVert_2}$$\n",
    "\n",
    "where $\\hat{y}$ is the predicted value by either the original or optimized pricing method and $y$ is the empirical price."
   ]
  },
  {
   "cell_type": "code",
   "execution_count": 4,
   "metadata": {},
   "outputs": [],
   "source": [
    "# Implementation is ugly/elss generalizable with two function but is much easier in practice\n",
    "def normalized_l2_error_original(row) -> float:\n",
    "    return np.linalg.norm(row[\"Original Method Price\"] - row[\"Empirical Price\"]) / np.linalg.norm(row[\"Empirical Price\"])\n",
    "def normalized_l2_error_optimized(row) -> float:\n",
    "    return np.linalg.norm(row[\"Optimized Method Price\"] - row[\"Empirical Price\"]) / np.linalg.norm(row[\"Empirical Price\"])"
   ]
  },
  {
   "cell_type": "markdown",
   "metadata": {},
   "source": [
    "## 1: Data Manipulation (adding and modifying columns)"
   ]
  },
  {
   "cell_type": "markdown",
   "metadata": {},
   "source": [
    "### 1.1: Adding Empirical Price"
   ]
  },
  {
   "cell_type": "code",
   "execution_count": 5,
   "metadata": {},
   "outputs": [],
   "source": [
    "option_prices[\"Empirical Price\"] = option_prices.apply(empirical_option, axis = 1)"
   ]
  },
  {
   "cell_type": "markdown",
   "metadata": {},
   "source": [
    "### 1.2: Adding Original and Optimized Method Price Errors"
   ]
  },
  {
   "cell_type": "code",
   "execution_count": 6,
   "metadata": {},
   "outputs": [],
   "source": [
    "option_prices[\"Original Error\"], option_prices[\"Optimized Error\"] = option_prices.apply(normalized_l2_error_original, axis = 1), option_prices.apply(normalized_l2_error_optimized, axis = 1)"
   ]
  },
  {
   "cell_type": "code",
   "execution_count": 7,
   "metadata": {},
   "outputs": [
    {
     "data": {
      "text/html": [
       "<div>\n",
       "<style scoped>\n",
       "    .dataframe tbody tr th:only-of-type {\n",
       "        vertical-align: middle;\n",
       "    }\n",
       "\n",
       "    .dataframe tbody tr th {\n",
       "        vertical-align: top;\n",
       "    }\n",
       "\n",
       "    .dataframe thead th {\n",
       "        text-align: right;\n",
       "    }\n",
       "</style>\n",
       "<table border=\"1\" class=\"dataframe\">\n",
       "  <thead>\n",
       "    <tr style=\"text-align: right;\">\n",
       "      <th></th>\n",
       "      <th>Expiry Time</th>\n",
       "      <th>Risk-Free Rate</th>\n",
       "      <th>Volatility</th>\n",
       "      <th>Strike Price</th>\n",
       "      <th>Original Method Price</th>\n",
       "      <th>Optimized Method Price</th>\n",
       "      <th>Basis</th>\n",
       "      <th>Call Flag</th>\n",
       "      <th>Empirical Price</th>\n",
       "      <th>Original Error</th>\n",
       "      <th>Optimized Error</th>\n",
       "    </tr>\n",
       "  </thead>\n",
       "  <tbody>\n",
       "    <tr>\n",
       "      <th>0</th>\n",
       "      <td>1</td>\n",
       "      <td>0.02</td>\n",
       "      <td>0.1</td>\n",
       "      <td>102</td>\n",
       "      <td>3.70643</td>\n",
       "      <td>4.02810</td>\n",
       "      <td>0</td>\n",
       "      <td>1</td>\n",
       "      <td>3.997243</td>\n",
       "      <td>0.072753</td>\n",
       "      <td>0.007720</td>\n",
       "    </tr>\n",
       "    <tr>\n",
       "      <th>1</th>\n",
       "      <td>1</td>\n",
       "      <td>0.02</td>\n",
       "      <td>0.1</td>\n",
       "      <td>102</td>\n",
       "      <td>3.70643</td>\n",
       "      <td>4.10252</td>\n",
       "      <td>2</td>\n",
       "      <td>1</td>\n",
       "      <td>3.997243</td>\n",
       "      <td>0.072753</td>\n",
       "      <td>0.026337</td>\n",
       "    </tr>\n",
       "    <tr>\n",
       "      <th>2</th>\n",
       "      <td>1</td>\n",
       "      <td>0.02</td>\n",
       "      <td>0.1</td>\n",
       "      <td>102</td>\n",
       "      <td>3.70643</td>\n",
       "      <td>4.03161</td>\n",
       "      <td>1</td>\n",
       "      <td>1</td>\n",
       "      <td>3.997243</td>\n",
       "      <td>0.072753</td>\n",
       "      <td>0.008598</td>\n",
       "    </tr>\n",
       "    <tr>\n",
       "      <th>3</th>\n",
       "      <td>1</td>\n",
       "      <td>0.02</td>\n",
       "      <td>0.1</td>\n",
       "      <td>105</td>\n",
       "      <td>2.53435</td>\n",
       "      <td>2.74178</td>\n",
       "      <td>0</td>\n",
       "      <td>1</td>\n",
       "      <td>2.751949</td>\n",
       "      <td>0.079071</td>\n",
       "      <td>0.003695</td>\n",
       "    </tr>\n",
       "    <tr>\n",
       "      <th>4</th>\n",
       "      <td>1</td>\n",
       "      <td>0.02</td>\n",
       "      <td>0.1</td>\n",
       "      <td>105</td>\n",
       "      <td>2.53435</td>\n",
       "      <td>2.68088</td>\n",
       "      <td>1</td>\n",
       "      <td>1</td>\n",
       "      <td>2.751949</td>\n",
       "      <td>0.079071</td>\n",
       "      <td>0.025825</td>\n",
       "    </tr>\n",
       "  </tbody>\n",
       "</table>\n",
       "</div>"
      ],
      "text/plain": [
       "   Expiry Time  Risk-Free Rate  Volatility  Strike Price  \\\n",
       "0            1            0.02         0.1           102   \n",
       "1            1            0.02         0.1           102   \n",
       "2            1            0.02         0.1           102   \n",
       "3            1            0.02         0.1           105   \n",
       "4            1            0.02         0.1           105   \n",
       "\n",
       "   Original Method Price  Optimized Method Price  Basis  Call Flag  \\\n",
       "0                3.70643                 4.02810      0          1   \n",
       "1                3.70643                 4.10252      2          1   \n",
       "2                3.70643                 4.03161      1          1   \n",
       "3                2.53435                 2.74178      0          1   \n",
       "4                2.53435                 2.68088      1          1   \n",
       "\n",
       "   Empirical Price  Original Error  Optimized Error  \n",
       "0         3.997243        0.072753         0.007720  \n",
       "1         3.997243        0.072753         0.026337  \n",
       "2         3.997243        0.072753         0.008598  \n",
       "3         2.751949        0.079071         0.003695  \n",
       "4         2.751949        0.079071         0.025825  "
      ]
     },
     "execution_count": 7,
     "metadata": {},
     "output_type": "execute_result"
    }
   ],
   "source": [
    "option_prices.head()"
   ]
  }
 ],
 "metadata": {
  "kernelspec": {
   "display_name": "Python 3",
   "language": "python",
   "name": "python3"
  },
  "language_info": {
   "codemirror_mode": {
    "name": "ipython",
    "version": 3
   },
   "file_extension": ".py",
   "mimetype": "text/x-python",
   "name": "python",
   "nbconvert_exporter": "python",
   "pygments_lexer": "ipython3",
   "version": "3.12.2"
  }
 },
 "nbformat": 4,
 "nbformat_minor": 2
}
